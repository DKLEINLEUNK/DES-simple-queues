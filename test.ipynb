{
 "cells": [
  {
   "cell_type": "code",
   "execution_count": null,
   "metadata": {},
   "outputs": [],
   "source": [
    "import matplotlib.pyplot as pl\n",
    "import matplotlib\n",
    "matplotlib.rcParams.update({'font.size': 14})"
   ]
  },
  {
   "cell_type": "code",
   "execution_count": null,
   "metadata": {},
   "outputs": [],
   "source": [
    "from Queue import *\n",
    "from Metrics import *"
   ]
  },
  {
   "cell_type": "code",
   "execution_count": null,
   "metadata": {},
   "outputs": [],
   "source": [
    "# removed variables from main so i can pass new ones in notebook\n",
    "def main(n_servers, discipline, mean_service_rate, mean_arrival_rate, max_customers, max_runtime):    # Simulation params\n",
    "    print('Running queueing system simulation...')\n",
    "    simulation = QueueSimulation(n_servers, discipline, mean_service_rate, mean_arrival_rate, max_customers, max_runtime)\n",
    "    simulation.run()\n",
    "\n",
    "    print('Simulation finished!')\n",
    "    print('')\n",
    "    Metrics = QueueMetrics(simulation)\n",
    "    expected_metrics = Metrics.get_expected_metrics()\n",
    "    measured_metrics = Metrics.get_measured_metrics()\n",
    "\n",
    "    print(\"EXPECTED\")\n",
    "    for key, value in expected_metrics.items():\n",
    "        print(f\"{key} = {value:.3f}\")\n",
    "\n",
    "    print(\"\\nMEASURED\")\n",
    "    for key, value in measured_metrics.items():\n",
    "        print(f\"{key} = {value[0]:.3f}, Variance: {value[1]}\")\n",
    "\n",
    "    return simulation.get_log()"
   ]
  },
  {
   "cell_type": "code",
   "execution_count": null,
   "metadata": {},
   "outputs": [],
   "source": [
    "# run system for different server numbers but same utilization\n",
    "discipline = 'FIFO'\n",
    "mean_service_rate = 1\n",
    "max_customers = 10000000\n",
    "max_runtime = 10000\n",
    "\n",
    "n_servers = 1\n",
    "mean_arrival_rate = 0.7 * n_servers\n",
    "result_1 = main(n_servers, discipline, mean_service_rate, mean_arrival_rate, max_customers, max_runtime)\n",
    "\n",
    "n_servers = 2\n",
    "mean_arrival_rate = 0.7*n_servers\n",
    "result_2= main(n_servers, discipline, mean_service_rate, mean_arrival_rate, max_customers, max_runtime)\n",
    "\n",
    "n_servers = 4\n",
    "mean_arrival_rate = 0.7*n_servers\n",
    "result_4 = main(n_servers, discipline, mean_service_rate, mean_arrival_rate, max_customers, max_runtime)"
   ]
  },
  {
   "cell_type": "code",
   "execution_count": null,
   "metadata": {},
   "outputs": [],
   "source": [
    "# this is just plotting histograms for each system\n",
    "data_array = [result_1[0],result_2[0],result_4[0]]\n",
    "servers = [1,2,4]\n",
    "for i in range(3):\n",
    "    data=data_array[i]\n",
    "    var = np.sum((data - np.mean(data))**2)/(len(data) - 1)\n",
    "    print(var)\n",
    "    binwidth = 0.8\n",
    "    bins= np.arange(min(data), max(data) + binwidth, binwidth)\n",
    "    # bins=10\n",
    "    plt.hist(data, bins=20,label = \"n = \" + str(servers[i]),alpha = 0.6)\n",
    "    plt.legend(loc='best')\n",
    "    plt.xlabel('Waiting Times')\n",
    "    # plt.title(\"Waiting times for n servers with constant utilization\")\n",
    "    plt.ylabel('Frequency')\n",
    "    plt.xlim(0)\n",
    "    plt.savefig(\"histogram of single sim n{} c{} a0.7 - s1.png\".format(servers[i],len(data)))\n",
    "    plt.show()\n"
   ]
  },
  {
   "cell_type": "code",
   "execution_count": null,
   "metadata": {},
   "outputs": [],
   "source": [
    "# loop through different utilization values \n",
    "# i calcualted sample var here but not sure thats right\n",
    "\n",
    "discipline = 'FIFO'\n",
    "max_customers = 10000000\n",
    "max_runtime = 100000\n",
    "\n",
    "mean_ar = []\n",
    "var_ar = []\n",
    "u_ar = np.linspace(0.5,0.99,15)\n",
    "for u in u_ar:\n",
    "    n_servers = 1\n",
    "    mean_service_rate = 1\n",
    "    mean_arrival_rate = u*n_servers\n",
    "    \n",
    "    result = main(n_servers, discipline, mean_service_rate, mean_arrival_rate, max_customers, max_runtime)\n",
    "    data = result[0]\n",
    "    mean = np.mean(data)\n",
    "    mean_ar.append(mean)\n",
    "    var = np.sum((data - np.mean(data))**2)/(len(data) - 1)\n",
    "    var_ar.append(var)\n",
    "\n",
    "results = pd.DataFrame(columns = ['U','mean','var'], data = zip(u_ar,mean_ar,var_ar))\n",
    "plt.plot(results['U'],results['mean'], '-x',alpha = 0.8,label = 'Sample Mean', c = 'b')\n",
    "plt.plot(results['U'],results['var'],linestyle = 'dashed',marker='x',color = 'lightblue',alpha = 0.8,label = 'Sample Variance')\n",
    "\n",
    "plt.legend(loc='best')\n",
    "plt.xlabel('Utilization')\n",
    "plt.ylabel('Wait Time')\n",
    "plt.savefig('n4 wait time utilization.png')\n"
   ]
  },
  {
   "cell_type": "code",
   "execution_count": null,
   "metadata": {},
   "outputs": [],
   "source": [
    "#weird confidence interval that doesn't work\n",
    "\n",
    "# mean = n1_results['mean']\n",
    "# sd = np.sqrt(n1_results['var'])\n",
    "# # plt.plot(n1_results['U'],mean,'-x')\n",
    "# ci_min = mean-sd*(np.ones(len(sd))*1.96/np.sqrt(len(sd)))\n",
    "# ci_max = mean+sd*(np.ones(len(sd))*1.96/np.sqrt(len(sd)))\n",
    "# plt.fill_between(n1_results['U'],ci_min,ci_max,alpha=0.2,label = \"95% Confidence Interval\",color='blue')\n",
    "# plt.plot(n1_results['U'],n1_results['mean'], '-x',alpha = 0.8,label = 'Sample Mean', c = 'b')\n",
    "\n",
    "# mean = n2_results['mean']\n",
    "# sd = np.sqrt(n2_results['var'])\n",
    "# # plt.plot(n2_results['U'],mean,'-x')\n",
    "# ci_min = mean-sd*(np.ones(len(sd))*1.96/np.sqrt(len(sd)))\n",
    "# ci_max = mean+sd*(np.ones(len(sd))*1.96/np.sqrt(len(sd)))\n",
    "# plt.fill_between(n2_results['U'],ci_min,ci_max,alpha=0.2,label = \"95% Confidence Interval\",color='green')\n",
    "# plt.plot(n2_results['U'],n2_results['mean'], '-x',alpha = 0.8,label = 'Sample Mean', c = 'g')\n",
    "\n",
    "# mean = n4_results['mean']\n",
    "# sd = np.sqrt(n4_results['var'])\n",
    "# # plt.plot(n4_results['U'],mean,'-x')\n",
    "# ci_min = mean-sd*(np.ones(len(sd))*1.96/np.sqrt(len(sd)))\n",
    "# ci_max = mean+sd*(np.ones(len(sd))*1.96/np.sqrt(len(sd)))\n",
    "# plt.fill_between(n4_results['U'],ci_min,ci_max,alpha=0.2,label = \"95% Confidence Interval\",color='red')\n",
    "# plt.plot(n4_results['U'],n4_results['mean'], '-x',alpha = 0.8,label = 'Sample Mean', c = 'r')\n",
    "\n",
    "# # plt.plot(n2_results['U'],np.sqrt(n2_results['var']),linestyle = 'dashed',marker='x',color = 'lightgreen',alpha = 0.8,label = 'Sample Variance')\n",
    "# plt.legend(loc='best')\n",
    "# plt.xlabel('Utilization')\n",
    "# plt.ylabel('Wait Time')\n",
    "# plt.savefig('n2 wait time utilization.png')"
   ]
  },
  {
   "cell_type": "code",
   "execution_count": null,
   "metadata": {},
   "outputs": [],
   "source": [
    "# section on cumulative wait times\n",
    "discipline = 'FIFO'\n",
    "mean_service_rate = 1\n",
    "max_customers = 10000000\n",
    "max_runtime = 100000\n",
    "\n",
    "n_servers = 1\n",
    "mean_arrival_rate = 0.99 * n_servers\n",
    "result_1 = main(n_servers, discipline, mean_service_rate, mean_arrival_rate, max_customers, max_runtime)\n",
    "\n",
    "n_servers = 2\n",
    "mean_arrival_rate = 0.99*n_servers\n",
    "result_2= main(n_servers, discipline, mean_service_rate, mean_arrival_rate, max_customers, max_runtime)\n",
    "\n",
    "n_servers = 4\n",
    "mean_arrival_rate = 0.99*n_servers\n",
    "result_4 = main(n_servers, discipline, mean_service_rate, mean_arrival_rate, max_customers, max_runtime)"
   ]
  },
  {
   "cell_type": "code",
   "execution_count": null,
   "metadata": {},
   "outputs": [],
   "source": [
    "data = [result_1[0],result_2[0],result_4[0]]\n",
    "n = [1,2,4]\n",
    "data_ar = []\n",
    "for i in range(3):\n",
    "    d = data[i]\n",
    "    x = np.linspace(0,300,100)\n",
    "    cumulative = [len(d[d< i])/len(d) for i in x]\n",
    "    data_ar.append(cumulative)\n",
    "    plt.plot(x,cumulative,label = \"n = \"+str(n[i]))\n",
    "plt.legend(loc='best')\n",
    "plt.xlabel('Wait times')\n",
    "plt.ylabel('Cumulative Distribution')"
   ]
  },
  {
   "cell_type": "code",
   "execution_count": null,
   "metadata": {},
   "outputs": [],
   "source": [
    "from scipy.optimize import curve_fit\n",
    "\n",
    "def cum_exp(x,a):\n",
    "    return 1 - np.exp(-a*x)"
   ]
  },
  {
   "cell_type": "code",
   "execution_count": null,
   "metadata": {},
   "outputs": [],
   "source": [
    "for i in range(len(data_ar)):\n",
    "    popt, pcov = curve_fit(cum_exp,x,data_ar[i],(0.7))\n",
    "    print(popt,pcov)"
   ]
  }
 ],
 "metadata": {
  "kernelspec": {
   "display_name": "Python 3",
   "language": "python",
   "name": "python3"
  },
  "language_info": {
   "codemirror_mode": {
    "name": "ipython",
    "version": 3
   },
   "file_extension": ".py",
   "mimetype": "text/x-python",
   "name": "python",
   "nbconvert_exporter": "python",
   "pygments_lexer": "ipython3",
   "version": "3.11.4"
  }
 },
 "nbformat": 4,
 "nbformat_minor": 2
}
